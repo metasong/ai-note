{
 "cells": [
  {
   "cell_type": "markdown",
   "metadata": {},
   "source": [
    "# Using Interact"
   ]
  },
  {
   "cell_type": "markdown",
   "metadata": {},
   "source": [
    "The `interact` function (`ipywidgets.interact`) automatically creates user interface (UI) controls for exploring code and data interactively. It is the easiest way to get started using IPython's widgets."
   ]
  },
  {
   "cell_type": "code",
   "execution_count": 9,
   "metadata": {
    "collapsed": false
   },
   "outputs": [],
   "source": [
    "from __future__ import print_function\n",
    "from ipywidgets import interact, interactive, fixed\n",
    "import ipywidgets as widgets"
   ]
  },
  {
   "cell_type": "markdown",
   "metadata": {},
   "source": [
    "<div class=\"alert alert-success\">\n",
    "As of ipywidgets 5.0, only static images of the widgets in this notebook will show on http://nbviewer.ipython.org. To view the live widgets and interact with them, you will need to download this notebook and run it with a Jupyter Notebook server.\n",
    "</div>"
   ]
  },
  {
   "cell_type": "markdown",
   "metadata": {},
   "source": [
    "## Basic `interact`"
   ]
  },
  {
   "cell_type": "markdown",
   "metadata": {},
   "source": [
    "At the most basic level, `interact` autogenerates UI controls for function arguments, and then calls the function with those arguments when you manipulate the controls interactively. To use `interact`, you need to define a function that you want to explore. Here is a function that prints its only argument `x`."
   ]
  },
  {
   "cell_type": "code",
   "execution_count": 2,
   "metadata": {
    "collapsed": false
   },
   "outputs": [],
   "source": [
    "def f(x):\n",
    "    return x"
   ]
  },
  {
   "cell_type": "markdown",
   "metadata": {},
   "source": [
    "When you pass this function as the first argument to `interact` along with an integer keyword argument (`x=10`), a slider is generated and bound to the function parameter."
   ]
  },
  {
   "cell_type": "code",
   "execution_count": 3,
   "metadata": {
    "collapsed": false
   },
   "outputs": [
    {
     "data": {
      "text/plain": [
       "6"
      ]
     },
     "metadata": {},
     "output_type": "display_data"
    }
   ],
   "source": [
    "interact(f, x=10);"
   ]
  },
  {
   "cell_type": "markdown",
   "metadata": {},
   "source": [
    "When you move the slider, the function is called, which prints the current value of `x`.\n",
    "\n",
    "If you pass `True` or `False`, `interact` will generate a checkbox:"
   ]
  },
  {
   "cell_type": "code",
   "execution_count": 4,
   "metadata": {
    "collapsed": false
   },
   "outputs": [
    {
     "data": {
      "text/plain": [
       "True"
      ]
     },
     "metadata": {},
     "output_type": "display_data"
    }
   ],
   "source": [
    "interact(f, x=True);"
   ]
  },
  {
   "cell_type": "markdown",
   "metadata": {},
   "source": [
    "If you pass a string, `interact` will generate a text area."
   ]
  },
  {
   "cell_type": "code",
   "execution_count": 5,
   "metadata": {
    "collapsed": false
   },
   "outputs": [
    {
     "data": {
      "text/plain": [
       "'Hi there!'"
      ]
     },
     "metadata": {},
     "output_type": "display_data"
    }
   ],
   "source": [
    "interact(f, x='Hi there!');"
   ]
  },
  {
   "cell_type": "markdown",
   "metadata": {},
   "source": [
    "`interact` can also be used as a decorator. This allows you to define a function and interact with it in a single shot. As this example shows, `interact` also works with functions that have multiple arguments."
   ]
  },
  {
   "cell_type": "code",
   "execution_count": 7,
   "metadata": {
    "collapsed": false
   },
   "outputs": [
    {
     "data": {
      "text/plain": [
       "(True, 2.0)"
      ]
     },
     "metadata": {},
     "output_type": "display_data"
    }
   ],
   "source": [
    "@interact(x=True, y=1.0)\n",
    "def g(x, y):\n",
    "    return (x, y+1)"
   ]
  },
  {
   "cell_type": "markdown",
   "metadata": {},
   "source": [
    "## Fixing arguments using `fixed`"
   ]
  },
  {
   "cell_type": "markdown",
   "metadata": {},
   "source": [
    "There are times when you may want to explore a function using `interact`, but fix one or more of its arguments to specific values. This can be accomplished by wrapping values with the `fixed` function."
   ]
  },
  {
   "cell_type": "code",
   "execution_count": 11,
   "metadata": {
    "collapsed": false
   },
   "outputs": [],
   "source": [
    "def h(p, q):\n",
    "    return (p, q)"
   ]
  },
  {
   "cell_type": "markdown",
   "metadata": {},
   "source": [
    "When we call `interact`, we pass `fixed(20)` for q to hold it fixed at a value of `20`."
   ]
  },
  {
   "cell_type": "code",
   "execution_count": 12,
   "metadata": {
    "collapsed": false
   },
   "outputs": [
    {
     "data": {
      "text/plain": [
       "(6, 20)"
      ]
     },
     "metadata": {},
     "output_type": "display_data"
    }
   ],
   "source": [
    "interact(h, p=5, q=fixed(20));"
   ]
  },
  {
   "cell_type": "markdown",
   "metadata": {},
   "source": [
    "Notice that a slider is only produced for `p` as the value of `q` is fixed."
   ]
  },
  {
   "cell_type": "markdown",
   "metadata": {},
   "source": [
    "## Widget abbreviations"
   ]
  },
  {
   "cell_type": "markdown",
   "metadata": {},
   "source": [
    "When you pass an integer-valued keyword argument of `10` (`x=10`) to `interact`, it generates an integer-valued slider control with a range of $[-10,+3\\times10]$. In this case, `10` is an *abbreviation* for an actual slider widget:\n",
    "\n",
    "```python\n",
    "IntSlider(min=-10,max=30,step=1,value=10)\n",
    "```\n",
    "\n",
    "In fact, we can get the same result if we pass this `IntSlider` as the keyword argument for `x`:"
   ]
  },
  {
   "cell_type": "code",
   "execution_count": 13,
   "metadata": {
    "collapsed": false
   },
   "outputs": [
    {
     "data": {
      "text/plain": [
       "10"
      ]
     },
     "metadata": {},
     "output_type": "display_data"
    }
   ],
   "source": [
    "interact(f, x=widgets.IntSlider(min=-10,max=30,step=1,value=10));"
   ]
  },
  {
   "cell_type": "markdown",
   "metadata": {},
   "source": [
    "This examples clarifies how `interact` proceses its keyword arguments:\n",
    "\n",
    "1. If the keyword argument is a `Widget` instance with a `value` attribute, that widget is used. Any widget with a `value` attribute can be used, even custom ones.\n",
    "2. Otherwise, the value is treated as a *widget abbreviation* that is converted to a widget before it is used.\n",
    "\n",
    "The following table gives an overview of different widget abbreviations:\n",
    "\n",
    "<table class=\"table table-condensed table-bordered\">\n",
    "  <tr><td><strong>Keyword argument</strong></td><td><strong>Widget</strong></td></tr>  \n",
    "  <tr><td>`True` or `False`</td><td>Checkbox</td></tr>  \n",
    "  <tr><td>`'Hi there'`</td><td>Text</td></tr>\n",
    "  <tr><td>`value` or `(min,max)` or `(min,max,step)` if integers are passed</td><td>IntSlider</td></tr>\n",
    "  <tr><td>`value` or `(min,max)` or `(min,max,step)` if floats are passed</td><td>FloatSlider</td></tr>\n",
    "  <tr><td>`['orange','apple']` or `{'one':1,'two':2}`</td><td>Dropdown</td></tr>\n",
    "</table>\n",
    "Note that a dropdown is used if a list or a dict is given (signifying discrete choices), and a slider is used if a tuple is given (signifying a range)."
   ]
  },
  {
   "cell_type": "markdown",
   "metadata": {},
   "source": [
    "You have seen how the checkbox and textarea widgets work above. Here, more details about the different abbreviations for sliders and dropdowns are given.\n",
    "\n",
    "If a 2-tuple of integers is passed `(min,max)`, an integer-valued slider is produced with those minimum and maximum values (inclusively). In this case, the default step size of `1` is used."
   ]
  },
  {
   "cell_type": "code",
   "execution_count": 14,
   "metadata": {
    "collapsed": false
   },
   "outputs": [
    {
     "data": {
      "text/plain": [
       "2"
      ]
     },
     "metadata": {},
     "output_type": "display_data"
    }
   ],
   "source": [
    "interact(f, x=(0,4));"
   ]
  },
  {
   "cell_type": "markdown",
   "metadata": {},
   "source": [
    "If a 3-tuple of integers is passed `(min,max,step)`, the step size can also be set."
   ]
  },
  {
   "cell_type": "code",
   "execution_count": 15,
   "metadata": {
    "collapsed": false
   },
   "outputs": [
    {
     "data": {
      "text/plain": [
       "6"
      ]
     },
     "metadata": {},
     "output_type": "display_data"
    }
   ],
   "source": [
    "interact(f, x=(0,8,2));"
   ]
  },
  {
   "cell_type": "markdown",
   "metadata": {},
   "source": [
    "A float-valued slider is produced if the elements of the tuples are floats. Here the minimum is `0.0`, the maximum is `10.0` and step size is `0.1` (the default)."
   ]
  },
  {
   "cell_type": "code",
   "execution_count": 16,
   "metadata": {
    "collapsed": false
   },
   "outputs": [
    {
     "data": {
      "text/plain": [
       "5.1"
      ]
     },
     "metadata": {},
     "output_type": "display_data"
    }
   ],
   "source": [
    "interact(f, x=(0.0,10.0));"
   ]
  },
  {
   "cell_type": "markdown",
   "metadata": {},
   "source": [
    "The step size can be changed by passing a third element in the tuple."
   ]
  },
  {
   "cell_type": "code",
   "execution_count": 18,
   "metadata": {
    "collapsed": false
   },
   "outputs": [
    {
     "data": {
      "text/plain": [
       "5.0"
      ]
     },
     "metadata": {},
     "output_type": "display_data"
    }
   ],
   "source": [
    "interact(f, x=(0.0,10.0,0.02));"
   ]
  },
  {
   "cell_type": "markdown",
   "metadata": {},
   "source": [
    "For both integer and float-valued sliders, you can pick the initial value of the widget by passing a default keyword argument to the underlying Python function. Here we set the initial value of a float slider to `5.5`."
   ]
  },
  {
   "cell_type": "code",
   "execution_count": 19,
   "metadata": {
    "collapsed": false
   },
   "outputs": [
    {
     "data": {
      "text/plain": [
       "20.0"
      ]
     },
     "metadata": {},
     "output_type": "display_data"
    }
   ],
   "source": [
    "@interact(x=(0.0,20.0,0.5))\n",
    "def h(x=5.5):\n",
    "    return x"
   ]
  },
  {
   "cell_type": "markdown",
   "metadata": {},
   "source": [
    "Dropdown menus are constructed by passing a tuple of strings. In this case, the strings are both used as the names in the dropdown menu UI and passed to the underlying Python function."
   ]
  },
  {
   "cell_type": "code",
   "execution_count": 20,
   "metadata": {
    "collapsed": false
   },
   "outputs": [
    {
     "data": {
      "text/plain": [
       "'apples'"
      ]
     },
     "metadata": {},
     "output_type": "display_data"
    }
   ],
   "source": [
    "interact(f, x=('apples','oranges'));"
   ]
  },
  {
   "cell_type": "markdown",
   "metadata": {},
   "source": [
    "If you want a dropdown menu that passes non-string values to the Python function, you can pass a dictionary. The keys in the dictionary are used for the names in the dropdown menu UI and the values are the arguments that are passed to the underlying Python function."
   ]
  },
  {
   "cell_type": "code",
   "execution_count": 21,
   "metadata": {
    "collapsed": false
   },
   "outputs": [
    {
     "data": {
      "text/plain": [
       "10"
      ]
     },
     "metadata": {},
     "output_type": "display_data"
    }
   ],
   "source": [
    "interact(f, x={'one': 10, 'two': 20});"
   ]
  },
  {
   "cell_type": "markdown",
   "metadata": {},
   "source": [
    "## Using function annotations with `interact`"
   ]
  },
  {
   "cell_type": "markdown",
   "metadata": {},
   "source": [
    "If you are using Python 3, you can also specify widget abbreviations using [function annotations](https://docs.python.org/3/tutorial/controlflow.html#function-annotations).\n",
    "\n",
    "Define a function with a checkbox widget abbreviation for the argument `x`."
   ]
  },
  {
   "cell_type": "code",
   "execution_count": 26,
   "metadata": {
    "collapsed": false
   },
   "outputs": [],
   "source": [
    "def f(x:False): # python 3 only\n",
    "    return x"
   ]
  },
  {
   "cell_type": "markdown",
   "metadata": {},
   "source": [
    "Then, because the widget abbreviation has already been defined, you can call `interact` with a single argument."
   ]
  },
  {
   "cell_type": "code",
   "execution_count": 27,
   "metadata": {
    "collapsed": false
   },
   "outputs": [
    {
     "data": {
      "text/plain": [
       "False"
      ]
     },
     "metadata": {},
     "output_type": "display_data"
    }
   ],
   "source": [
    "interact(f);"
   ]
  },
  {
   "cell_type": "markdown",
   "metadata": {},
   "source": [
    "If you are running Python 2, function annotations can be defined using the `@annotate` function."
   ]
  },
  {
   "cell_type": "code",
   "execution_count": 29,
   "metadata": {
    "collapsed": false
   },
   "outputs": [],
   "source": [
    "from IPython.utils.py3compat import annotate"
   ]
  },
  {
   "cell_type": "code",
   "execution_count": 32,
   "metadata": {
    "collapsed": false
   },
   "outputs": [],
   "source": [
    "@annotate(x=True)\n",
    "def f(x):\n",
    "    return x"
   ]
  },
  {
   "cell_type": "code",
   "execution_count": 33,
   "metadata": {
    "collapsed": false
   },
   "outputs": [
    {
     "data": {
      "text/plain": [
       "True"
      ]
     },
     "metadata": {},
     "output_type": "display_data"
    }
   ],
   "source": [
    "interact(f);"
   ]
  },
  {
   "cell_type": "markdown",
   "metadata": {},
   "source": [
    "## `interactive`"
   ]
  },
  {
   "cell_type": "markdown",
   "metadata": {},
   "source": [
    "In addition to `interact`, IPython provides another function, `interactive`, that is useful when you want to reuse the widgets that are produced or access the data that is bound to the UI controls."
   ]
  },
  {
   "cell_type": "markdown",
   "metadata": {},
   "source": [
    "Here is a function that returns the sum of its two arguments."
   ]
  },
  {
   "cell_type": "code",
   "execution_count": 34,
   "metadata": {
    "collapsed": false
   },
   "outputs": [],
   "source": [
    "def f(a, b):\n",
    "    return a+b"
   ]
  },
  {
   "cell_type": "markdown",
   "metadata": {},
   "source": [
    "Unlike `interact`, `interactive` returns a `Widget` instance rather than immediately displaying the widget."
   ]
  },
  {
   "cell_type": "code",
   "execution_count": 36,
   "metadata": {
    "collapsed": false
   },
   "outputs": [],
   "source": [
    "w = interactive(f, a=10, b=20)"
   ]
  },
  {
   "cell_type": "markdown",
   "metadata": {},
   "source": [
    "The widget is a `Box`, which is a container for other widgets."
   ]
  },
  {
   "cell_type": "code",
   "execution_count": 37,
   "metadata": {
    "collapsed": false
   },
   "outputs": [
    {
     "data": {
      "text/plain": [
       "ipywidgets.widgets.widget_box.Box"
      ]
     },
     "execution_count": 37,
     "metadata": {},
     "output_type": "execute_result"
    }
   ],
   "source": [
    "type(w)"
   ]
  },
  {
   "cell_type": "markdown",
   "metadata": {},
   "source": [
    "The children of the `Box` are two integer-valued sliders produced by the widget abbreviations above."
   ]
  },
  {
   "cell_type": "code",
   "execution_count": 38,
   "metadata": {
    "collapsed": false
   },
   "outputs": [
    {
     "data": {
      "text/plain": [
       "(<ipywidgets.widgets.widget_int.IntSlider at 0x50eb898>,\n",
       " <ipywidgets.widgets.widget_int.IntSlider at 0x50e09b0>)"
      ]
     },
     "execution_count": 38,
     "metadata": {},
     "output_type": "execute_result"
    }
   ],
   "source": [
    "w.children"
   ]
  },
  {
   "cell_type": "markdown",
   "metadata": {},
   "source": [
    "To actually display the widgets, you can use IPython's `display` function."
   ]
  },
  {
   "cell_type": "code",
   "execution_count": 39,
   "metadata": {
    "collapsed": false
   },
   "outputs": [
    {
     "data": {
      "text/plain": [
       "49"
      ]
     },
     "metadata": {},
     "output_type": "display_data"
    }
   ],
   "source": [
    "from IPython.display import display\n",
    "display(w)"
   ]
  },
  {
   "cell_type": "markdown",
   "metadata": {},
   "source": [
    "At this point, the UI controls work just like they would if `interact` had been used. You can manipulate them interactively and the function will be called. However, the widget instance returned by `interactive` also give you access to the current keyword arguments and return value of the underlying Python function.\n",
    "\n",
    "Here are the current keyword arguments. If you rerun this cell after manipulating the sliders, the values will have changed."
   ]
  },
  {
   "cell_type": "code",
   "execution_count": 41,
   "metadata": {
    "collapsed": false
   },
   "outputs": [
    {
     "data": {
      "text/plain": [
       "{'a': 12, 'b': 37}"
      ]
     },
     "execution_count": 41,
     "metadata": {},
     "output_type": "execute_result"
    }
   ],
   "source": [
    "w.kwargs"
   ]
  },
  {
   "cell_type": "markdown",
   "metadata": {},
   "source": [
    "Here is the current return value of the function."
   ]
  },
  {
   "cell_type": "code",
   "execution_count": 42,
   "metadata": {
    "collapsed": false
   },
   "outputs": [
    {
     "data": {
      "text/plain": [
       "49"
      ]
     },
     "execution_count": 42,
     "metadata": {},
     "output_type": "execute_result"
    }
   ],
   "source": [
    "w.result"
   ]
  },
  {
   "cell_type": "markdown",
   "metadata": {},
   "source": [
    "## Disabling continuous updates"
   ]
  },
  {
   "cell_type": "markdown",
   "metadata": {},
   "source": [
    "When interacting with long running functions, realtime feedback is a burden instead of being helpful.  See the following example:"
   ]
  },
  {
   "cell_type": "code",
   "execution_count": 43,
   "metadata": {
    "collapsed": true
   },
   "outputs": [],
   "source": [
    "def slow_function(i):\n",
    "    print(int(i),list(x for x in range(int(i)) if \n",
    "                str(x)==str(x)[::-1] and \n",
    "                str(x**2)==str(x**2)[::-1]))\n",
    "    return"
   ]
  },
  {
   "cell_type": "code",
   "execution_count": 44,
   "metadata": {
    "collapsed": false
   },
   "outputs": [
    {
     "name": "stdout",
     "output_type": "stream",
     "text": [
      "1000000 [0, 1, 2, 3, 11, 22, 101, 111, 121, 202, 212, 1001, 1111, 2002, 10001, 10101, 10201, 11011, 11111, 11211, 20002, 20102, 100001, 101101, 110011, 111111, 200002]\n",
      "Wall time: 522 ms\n"
     ]
    }
   ],
   "source": [
    "%%time\n",
    "slow_function(1e6)"
   ]
  },
  {
   "cell_type": "markdown",
   "metadata": {},
   "source": [
    "Notice that the output is updated even while dragging the mouse on the slider. This is not useful for long running functions due to lagging:"
   ]
  },
  {
   "cell_type": "code",
   "execution_count": 45,
   "metadata": {
    "collapsed": false
   },
   "outputs": [
    {
     "name": "stdout",
     "output_type": "stream",
     "text": [
      "5300000 [0, 1, 2, 3, 11, 22, 101, 111, 121, 202, 212, 1001, 1111, 2002, 10001, 10101, 10201, 11011, 11111, 11211, 20002, 20102, 100001, 101101, 110011, 111111, 200002, 1000001, 1001001, 1002001, 1010101, 1011101, 1012101, 1100011, 1101011, 1102011, 1110111, 1111111, 2000002, 2001002]\n"
     ]
    }
   ],
   "source": [
    "from ipywidgets import FloatSlider\n",
    "interact(slow_function,i=FloatSlider(min=1e5, max=1e7, step=1e5))"
   ]
  },
  {
   "cell_type": "markdown",
   "metadata": {},
   "source": [
    "There are two ways to mitigate this.  You can either only execute on demand, or restrict execution to mouse release events."
   ]
  },
  {
   "cell_type": "markdown",
   "metadata": {},
   "source": [
    "### `__manual`"
   ]
  },
  {
   "cell_type": "markdown",
   "metadata": {},
   "source": [
    "The `__manual` kwarg of interact allows you to restrict execution so it is only done on demand.  A button is added to the interact controls that allows you to trigger an execute event."
   ]
  },
  {
   "cell_type": "code",
   "execution_count": 46,
   "metadata": {
    "collapsed": false
   },
   "outputs": [
    {
     "name": "stdout",
     "output_type": "stream",
     "text": [
      "100000 [0, 1, 2, 3, 11, 22, 101, 111, 121, 202, 212, 1001, 1111, 2002, 10001, 10101, 10201, 11011, 11111, 11211, 20002, 20102]\n"
     ]
    }
   ],
   "source": [
    "interact(slow_function,i=FloatSlider(min=1e5, max=1e7, step=1e5),__manual=True)"
   ]
  },
  {
   "cell_type": "markdown",
   "metadata": {},
   "source": [
    "### `continuous_update`"
   ]
  },
  {
   "cell_type": "markdown",
   "metadata": {},
   "source": [
    "If you are using slider widgets, you can set the `continuous_update` kwarg to `False`.  `continuous_update` is a kwarg of slider widgets that restricts executions to mouse release events."
   ]
  },
  {
   "cell_type": "code",
   "execution_count": 38,
   "metadata": {
    "collapsed": false
   },
   "outputs": [
    {
     "data": {
      "image/png": "[encoded data removed]",
      "text/html": [
       "<img src=data:image/png;base64,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 class=\"jupyter-widget\">\n",
       "<script type=\"application/vnd.jupyter-embedded-widgets\">[{},{\"_view_name\":\"FloatSliderView\",\"layout\":\"IPY_MODEL_9ba96e0407474665a5497c2dd560d6d2\",\"min\":100000,\"continuous_update\":false,\"description\":\"i\",\"max\":10000000,\"step\":100000,\"value\":100000},{},{\"children\":[\"IPY_MODEL_5a713f74a14e46e1ac6031dfc866d091\"],\"layout\":\"IPY_MODEL_513ddc8723214bf98f8509cdc81a1c27\",\"_dom_classes\":[\"widget-interact\"]}]</script>"
      ]
     },
     "metadata": {
      "isWidgetSnapshot": true
     },
     "output_type": "display_data"
    },
    {
     "name": "stdout",
     "output_type": "stream",
     "text": [
      "100000 [0, 1, 2, 3, 11, 22, 101, 111, 121, 202, 212, 1001, 1111, 2002, 10001, 10101, 10201, 11011, 11111, 11211, 20002, 20102]\n"
     ]
    },
    {
     "data": {
      "text/plain": [
       "<function __main__.slow_function>"
      ]
     },
     "execution_count": 38,
     "metadata": {},
     "output_type": "execute_result"
    }
   ],
   "source": [
    "interact(slow_function,i=FloatSlider(min=1e5, max=1e7, step=1e5,continuous_update=False))"
   ]
  },
  {
   "cell_type": "markdown",
   "metadata": {},
   "source": [
    "## Arguments that are dependent of each other"
   ]
  },
  {
   "cell_type": "markdown",
   "metadata": {},
   "source": [
    "Arguments that are dependent of each other can be expressed manually using `observe`.  See the following example, where one variable is used to describe the bounds of another.  For more information, please see the [widget events example notebook](./Widget Events.ipynb)."
   ]
  },
  {
   "cell_type": "code",
   "execution_count": 39,
   "metadata": {
    "collapsed": false
   },
   "outputs": [
    {
     "data": {
      "image/png": "[encoded data removed]",
      "text/html": [
       "<img src=data:image/png;base64,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 class=\"jupyter-widget\">\n",
       "<script type=\"application/vnd.jupyter-embedded-widgets\">[{},{\"_view_name\":\"FloatSliderView\",\"layout\":\"IPY_MODEL_91356fb3691e4774a486ef0cdfb32bbf\",\"description\":\"x\",\"max\":10,\"step\":0.05},{},{\"_view_name\":\"FloatSliderView\",\"layout\":\"IPY_MODEL_9a8ad7859cea4387ac12174dd86956f0\",\"min\":0.5,\"description\":\"y\",\"max\":10,\"step\":0.05,\"value\":5},{},{\"children\":[\"IPY_MODEL_cb02672795334bc2bf63c70b8231df66\",\"IPY_MODEL_544222bf8c76477ea09e3eda73509027\"],\"layout\":\"IPY_MODEL_0aab97e937ad45879a74558a03d6f71b\",\"_dom_classes\":[\"widget-interact\"]}]</script>"
      ]
     },
     "metadata": {
      "isWidgetSnapshot": true
     },
     "output_type": "display_data"
    },
    {
     "name": "stdout",
     "output_type": "stream",
     "text": [
      "0.0 5.0\n"
     ]
    },
    {
     "data": {
      "text/plain": [
       "<function __main__.printer>"
      ]
     },
     "execution_count": 39,
     "metadata": {},
     "output_type": "execute_result"
    }
   ],
   "source": [
    "x_widget = FloatSlider(min=0.0, max=10.0, step=0.05)\n",
    "y_widget = FloatSlider(min=0.5, max=10.0, step=0.05, value=5.0)\n",
    "\n",
    "def update_x_range(*args):\n",
    "    x_widget.max = 2.0 * y_widget.value\n",
    "y_widget.observe(update_x_range, 'value')\n",
    "\n",
    "def printer(x, y):\n",
    "    print(x, y)\n",
    "interact(printer,x=x_widget, y=y_widget)"
   ]
  }
 ],
 "metadata": {
  "anaconda-cloud": {},
  "kernelspec": {
   "display_name": "Python [default]",
   "language": "python",
   "name": "python3"
  },
  "language_info": {
   "codemirror_mode": {
    "name": "ipython",
    "version": 3
   },
   "file_extension": ".py",
   "mimetype": "text/x-python",
   "name": "python",
   "nbconvert_exporter": "python",
   "pygments_lexer": "ipython3",
   "version": "3.5.2"
  },
  "widgets": {
   "state": {
    "0f4e9463b6cf4b749d70002300011f3d": {
     "views": [
      {
       "cell_index": 28
      }
     ]
    },
    "3baa352acd95456c927cc2f14986b05c": {
     "views": [
      {
       "cell_index": 8
      }
     ]
    },
    "3d386285254445aca4576a10513738ec": {
     "views": [
      {
       "cell_index": 26
      }
     ]
    },
    "41ac64f1186d45ec9e46ef7f7fdc9f50": {
     "views": [
      {
       "cell_index": 59
      }
     ]
    },
    "437ce543c2f7496789c5b7f05e09fd24": {
     "views": [
      {
       "cell_index": 14
      }
     ]
    },
    "526f2da9334543b08e4155e8609b9e7f": {
     "views": [
      {
       "cell_index": 12
      }
     ]
    },
    "6098a6da00c84f438b0c6f3e04f72067": {
     "views": [
      {
       "cell_index": 34
      }
     ]
    },
    "7428eb62f0684288b9459439851dc022": {
     "views": [
      {
       "cell_index": 38
      }
     ]
    },
    "7ad525b0140c453d8525c5877e6d8144": {
     "views": [
      {
       "cell_index": 36
      }
     ]
    },
    "980f47ebbe8641da9f85f404b340051f": {
     "views": [
      {
       "cell_index": 30
      }
     ]
    },
    "99b61f17557a412fbb17ef12f3d7754a": {
     "views": [
      {
       "cell_index": 43
      }
     ]
    },
    "9b814229abc94b829864f30899c56dfd": {
     "views": [
      {
       "cell_index": 47
      }
     ]
    },
    "aaa4092f5194476ea9d7af1cd4edce2f": {
     "views": [
      {
       "cell_index": 73
      }
     ]
    },
    "ab2284724e5f47c797b8497934fc6f3f": {
     "views": [
      {
       "cell_index": 10
      }
     ]
    },
    "c7046f3b22a94c66a0649641c94a9752": {
     "views": [
      {
       "cell_index": 23
      }
     ]
    },
    "d41eab3094834cea8e050887212ec59c": {
     "views": [
      {
       "cell_index": 19
      }
     ]
    },
    "dc8a20ae65814c93aae59936013a0b05": {
     "views": [
      {
       "cell_index": 32
      }
     ]
    },
    "f45da245fa5d47b39ac15a89709ac1e6": {
     "views": [
      {
       "cell_index": 69
      }
     ]
    }
   },
   "version": "1.2.0"
  }
 },
 "nbformat": 4,
 "nbformat_minor": 1
}
