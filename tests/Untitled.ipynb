{
 "cells": [
  {
   "cell_type": "code",
   "execution_count": 3,
   "metadata": {
    "collapsed": false
   },
   "outputs": [
    {
     "data": {
      "text/plain": [
       "4"
      ]
     },
     "execution_count": 3,
     "metadata": {},
     "output_type": "execute_result"
    }
   ],
   "source": [
    "var k=4;\n",
    "k"
   ]
  },
  {
   "cell_type": "code",
   "execution_count": 5,
   "metadata": {
    "collapsed": false
   },
   "outputs": [
    {
     "ename": "SyntaxError",
     "evalue": "Unexpected identifier",
     "output_type": "error",
     "traceback": [
      "evalmachine.<anonymous>:1",
      "from IPython.html import widgets # Loads the Widget framework.",
      "     ^^^^^^^",
      "SyntaxError: Unexpected identifier",
      "    at Object.exports.runInThisContext (vm.js:76:16)",
      "    at run ([eval]:608:19)",
      "    at onRunRequest ([eval]:379:22)",
      "    at onMessage ([eval]:347:17)",
      "    at emitTwo (events.js:106:13)",
      "    at process.emit (events.js:191:7)",
      "    at process.nextTick (internal/child_process.js:744:12)",
      "    at _combinedTickCallback (internal/process/next_tick.js:67:7)",
      "    at process._tickCallback (internal/process/next_tick.js:98:9)"
     ]
    }
   ],
   "source": [
    "from ipywidgets  import widgets # Loads the Widget framework.\n",
    "from IPython.core.magics.namespace import NamespaceMagics # Used to query namespace.\n",
    "\n",
    "# For this example, hide these names, just to avoid polluting the namespace further\n",
    "get_ipython().user_ns_hidden['widgets'] = widgets\n",
    "get_ipython().user_ns_hidden['NamespaceMagics'] = NamespaceMagics"
   ]
  },
  {
   "cell_type": "code",
   "execution_count": 6,
   "metadata": {
    "collapsed": false
   },
   "outputs": [
    {
     "ename": "SyntaxError",
     "evalue": "Unexpected token import",
     "output_type": "error",
     "traceback": [
      "evalmachine.<anonymous>:3",
      "import base64",
      "^^^^^^",
      "SyntaxError: Unexpected token import",
      "    at Object.exports.runInThisContext (vm.js:76:16)",
      "    at run ([eval]:608:19)",
      "    at onRunRequest ([eval]:379:22)",
      "    at onMessage ([eval]:347:17)",
      "    at emitTwo (events.js:106:13)",
      "    at process.emit (events.js:191:7)",
      "    at process.nextTick (internal/child_process.js:744:12)",
      "    at _combinedTickCallback (internal/process/next_tick.js:67:7)",
      "    at process._tickCallback (internal/process/next_tick.js:98:9)"
     ]
    }
   ],
   "source": [
    "\n",
    "\n",
    "import base64\n",
    "import io\n",
    "import matplotlib.pyplot as plt\n",
    "import ipywidgets as widgets\n",
    "from IPython.display import display\n",
    "\n",
    "def handle_input1(slope):\n",
    "    plt.figure()\n",
    "    plt.plot([x * slope for x in range(0, 11)])\n",
    "    plt.ylim((0,10))\n",
    "    output1HTML.value = plot_to_html()\n",
    "    plt.close()\n",
    "\n",
    "def handle_input2(curvature):\n",
    "    plt.figure()\n",
    "    plt.plot([x * x * curvature for x in range(0, 11)])\n",
    "    plt.ylim((0,100))\n",
    "    output2HTML.value = plot_to_html()\n",
    "    plt.close()\n",
    "\n",
    "def plot_to_html():\n",
    "    # write image data to a string buffer and get the PNG image bytes\n",
    "    buf = io.BytesIO()\n",
    "    plt.savefig(buf, format='png')\n",
    "    buf.seek(0)\n",
    "    return \"\"\"<img src='data:image/png;base64,{}'/>\"\"\".format(base64.b64encode(buf.getvalue()).decode('ascii'))\n",
    "\n",
    "plt.ioff()\n",
    "\n",
    "heading1HTML = widgets.HTML(\"\"\"<h1>Slope</h1>\"\"\")\n",
    "input1Float = widgets.FloatSlider(value=0.5, min=0.0, max=1.0, step=0.01, description=\"slope: \")\n",
    "widgets.interactive(handle_input1, slope=input1Float)\n",
    "output1HTML = widgets.HTML()\n",
    "\n",
    "heading2HTML = widgets.HTML(\"\"\"<h1>Curvature</h1>\"\"\")\n",
    "input2Float = widgets.FloatSlider(value=0.5, min=0.0, max=1.0, step=0.01, description=\"curvature: \")\n",
    "widgets.interactive(handle_input2, curvature=input2Float)\n",
    "output2HTML = widgets.HTML()\n",
    "\n",
    "display(widgets.Box([heading1HTML, input1Float, output1HTML, heading2HTML, input2Float, output2HTML]))\n",
    "\n",
    "handle_input1(input1Float.value)\n",
    "handle_input2(input2Float.value)\n",
    "\n"
   ]
  },
  {
   "cell_type": "markdown",
   "metadata": {},
   "source": [
    "| This | is   |\n",
    "|------|------|\n",
    "|   a  | table| \n",
    "\n",
    "$$c = \\sqrt{a^2 + b^2}$$\n",
    "\n"
   ]
  }
 ],
 "metadata": {
  "anaconda-cloud": {},
  "kernelspec": {
   "display_name": "Javascript (Node.js)",
   "language": "javascript",
   "name": "javascript"
  },
  "language_info": {
   "file_extension": ".js",
   "mimetype": "application/javascript",
   "name": "javascript",
   "version": "6.9.1"
  }
 },
 "nbformat": 4,
 "nbformat_minor": 1
}
